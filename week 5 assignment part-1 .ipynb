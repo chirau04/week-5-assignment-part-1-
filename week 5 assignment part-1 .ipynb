{
 "cells": [
  {
   "cell_type": "markdown",
   "id": "b543a83f-8a69-4ef3-bce1-cb278b19a86f",
   "metadata": {},
   "source": [
    "In python, an exception is an abnormal event that occurs during the execution of a program, disrupting the normal flow of instructions. when an \n",
    "exception occurs, the interpreter raises the exception and looks for an appropriate exception handler to deal with it. "
   ]
  },
  {
   "cell_type": "markdown",
   "id": "e2ac4b92-a103-48b4-a4ad-ab0fc11c3c3b",
   "metadata": {},
   "source": [
    "A syntax error, on the other hand, is a type of error that occurs when the interpreter encounters invalid python code. It's a mistake in the structure of the code, such as a typo or a misuse of syntax elements. unlike exceptions , which occur during runtime, syntax errors prevent the code from being successfully compiled or interpreted. "
   ]
  },
  {
   "cell_type": "markdown",
   "id": "d99616a8-025c-42ee-9988-9f76fc91ce4e",
   "metadata": {},
   "source": [
    "In summary, exceptions are runtime errors that disrupt the normal execution of a program, while syntax errors are mistakes in the code's structure that prevent it from being parsed or compiled correctly. "
   ]
  },
  {
   "cell_type": "markdown",
   "id": "a1efa23a-471e-4fea-93e3-0cbbd6dba56d",
   "metadata": {},
   "source": [
    "When an exceptions is not handled in python, it leads to the termination of the program and an error message is displayed, revealing details about the unhandled exception. "
   ]
  },
  {
   "cell_type": "code",
   "execution_count": null,
   "id": "57431c69-10e8-4212-880c-ff1daa2f7052",
   "metadata": {},
   "outputs": [],
   "source": [
    "try: \n",
    "    num1 = int(input(\"enter a numerator: \"))\n",
    "    num2 = int(input(\"enter a denominator: \")) \n",
    "    result = num1/num2\n",
    "    print(\"Result:\", result)\n",
    "    \n",
    "except ValueError:\n",
    "    print(\"please enter valid integers for numerator and denominator.\")"
   ]
  },
  {
   "cell_type": "code",
   "execution_count": null,
   "id": "1b5138b8-9898-4956-86be-8f74bcbe03eb",
   "metadata": {},
   "outputs": [],
   "source": [
    "try: \n",
    "    #code that might raise an exception \n",
    "    num1 = int(input(\"Enter a number: \")) \n",
    "    num2 = int(input(\"Enter another number: \")) \n",
    "    result = num1/num2\n",
    "    \n",
    "except ValueError: \n",
    "    # Handle the exception for invalid input(non-numeric)\n",
    "    print(\"Invalid input. Please enter a valid number. \")\n",
    "    \n",
    "except ZeroDivisionError:\n",
    "    # Handle the exception for division by zero \n",
    "    print(\"Cannot divide by zero. \n",
    "          please enter a non-zero second number. \")\n",
    "          \n",
    "    else: \n",
    "          # Code to be executed if no exception is raised \n",
    "          print(\"The result of division is:\" result)\n",
    "          \n",
    "          \n",
    "    finally: \n",
    "          # Code that will be executed no matter what, whether there's an exception or not\n",
    "          print(\"Execution complete.\")"
   ]
  },
  {
   "cell_type": "markdown",
   "id": "e011ef12-6b67-4aef-a00a-fa287156a0c5",
   "metadata": {},
   "source": [
    "Try and else:"
   ]
  },
  {
   "cell_type": "code",
   "execution_count": null,
   "id": "bdbfcc7a-15f9-46d0-ac28-01112019fe21",
   "metadata": {},
   "outputs": [],
   "source": [
    "try: \n",
    "    # code that might raise in exception\n",
    "    result = num1/num2\n",
    "except ZeroDivisionError:\n",
    "    print(\"Cannot divide by zero\")\n",
    "else: \n",
    "    # code to be executed if no exception is raised \n",
    "    print(\"The result of division is:\",  result)"
   ]
  },
  {
   "cell_type": "markdown",
   "id": "377e8d93-fffb-47b8-9883-8d56ea48de85",
   "metadata": {},
   "source": [
    "finally:"
   ]
  },
  {
   "cell_type": "code",
   "execution_count": null,
   "id": "cf803a76-7eca-4a9e-b0d6-5204405154b3",
   "metadata": {},
   "outputs": [],
   "source": [
    "try: \n",
    "    # code that might raise an  exception \n",
    "    result = num1/num2 \n",
    "except ZeroDivisionError:\n",
    "    print(\"Cannot divide by zero.\")\n",
    "finally:\n",
    "    # code that will be executed no matter what\n",
    "    print(\"Execution complete.\")"
   ]
  },
  {
   "cell_type": "code",
   "execution_count": null,
   "id": "e9d22f2d-ad22-47cf-94d5-3a65373bc847",
   "metadata": {},
   "outputs": [],
   "source": [
    "if result> 5: \n",
    "    raise ValueError(\"Result is too large.\")"
   ]
  },
  {
   "cell_type": "code",
   "execution_count": null,
   "id": "88cd1c00-fe8b-488d-ba3c-911ceb1913cf",
   "metadata": {},
   "outputs": [],
   "source": [
    "class InvalidInputError(Exception):\n",
    "    def __init__self, input_value):\n",
    "        super().__init__(\"Invalid input: {}\". "
   ]
  }
 ],
 "metadata": {
  "kernelspec": {
   "display_name": "Python 3 (ipykernel)",
   "language": "python",
   "name": "python3"
  },
  "language_info": {
   "codemirror_mode": {
    "name": "ipython",
    "version": 3
   },
   "file_extension": ".py",
   "mimetype": "text/x-python",
   "name": "python",
   "nbconvert_exporter": "python",
   "pygments_lexer": "ipython3",
   "version": "3.10.8"
  }
 },
 "nbformat": 4,
 "nbformat_minor": 5
}
